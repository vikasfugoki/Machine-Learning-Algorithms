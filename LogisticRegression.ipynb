{
 "cells": [
  {
   "cell_type": "markdown",
   "metadata": {},
   "source": [
    "# Logistic Regression"
   ]
  },
  {
   "cell_type": "code",
   "execution_count": 24,
   "metadata": {},
   "outputs": [],
   "source": [
    "import numpy as np\n",
    "import matplotlib.pyplot as plt\n",
    "import seaborn as sns\n",
    "import os"
   ]
  },
  {
   "cell_type": "code",
   "execution_count": 25,
   "metadata": {},
   "outputs": [],
   "source": [
    "PATH = '/home/vikas/machine Learning/Tesnor_book/titanic'"
   ]
  },
  {
   "cell_type": "code",
   "execution_count": 26,
   "metadata": {},
   "outputs": [],
   "source": [
    "# function to read the input\n",
    "import pandas as pd\n",
    "\n",
    "def load_housing_data(filename, path = PATH):\n",
    "    csv_path = os.path.join(path, filename)\n",
    "    return pd.read_csv(csv_path)"
   ]
  },
  {
   "cell_type": "code",
   "execution_count": 27,
   "metadata": {},
   "outputs": [],
   "source": [
    "# laoding the data\n",
    "train_data = load_housing_data(\"train.csv\")   \n",
    "test_data = load_housing_data(\"test.csv\")\n",
    "gen_data = load_housing_data(\"gender_submission.csv\")"
   ]
  },
  {
   "cell_type": "code",
   "execution_count": 28,
   "metadata": {},
   "outputs": [
    {
     "name": "stdout",
     "output_type": "stream",
     "text": [
      "(891, 12)\n",
      "(418, 11)\n",
      "(418, 2)\n"
     ]
    }
   ],
   "source": [
    "# print the shape of the training and testing dataset\n",
    "print(train_data.shape)\n",
    "print(test_data.shape)\n",
    "print(gen_data.shape)"
   ]
  },
  {
   "cell_type": "code",
   "execution_count": 29,
   "metadata": {},
   "outputs": [],
   "source": [
    "# remove the target label from the training set\n",
    "train_labels = train_data[\"Survived\"].copy()\n",
    "train_data = train_data.drop(\"Survived\", axis=1)"
   ]
  },
  {
   "cell_type": "markdown",
   "metadata": {},
   "source": [
    "The dataset we are going to use is titanic dataset. let's first look how our training set is look like."
   ]
  },
  {
   "cell_type": "code",
   "execution_count": 30,
   "metadata": {},
   "outputs": [
    {
     "data": {
      "text/html": [
       "<div>\n",
       "<style scoped>\n",
       "    .dataframe tbody tr th:only-of-type {\n",
       "        vertical-align: middle;\n",
       "    }\n",
       "\n",
       "    .dataframe tbody tr th {\n",
       "        vertical-align: top;\n",
       "    }\n",
       "\n",
       "    .dataframe thead th {\n",
       "        text-align: right;\n",
       "    }\n",
       "</style>\n",
       "<table border=\"1\" class=\"dataframe\">\n",
       "  <thead>\n",
       "    <tr style=\"text-align: right;\">\n",
       "      <th></th>\n",
       "      <th>PassengerId</th>\n",
       "      <th>Pclass</th>\n",
       "      <th>Name</th>\n",
       "      <th>Sex</th>\n",
       "      <th>Age</th>\n",
       "      <th>SibSp</th>\n",
       "      <th>Parch</th>\n",
       "      <th>Ticket</th>\n",
       "      <th>Fare</th>\n",
       "      <th>Cabin</th>\n",
       "      <th>Embarked</th>\n",
       "    </tr>\n",
       "  </thead>\n",
       "  <tbody>\n",
       "    <tr>\n",
       "      <th>0</th>\n",
       "      <td>1</td>\n",
       "      <td>3</td>\n",
       "      <td>Braund, Mr. Owen Harris</td>\n",
       "      <td>male</td>\n",
       "      <td>22.0</td>\n",
       "      <td>1</td>\n",
       "      <td>0</td>\n",
       "      <td>A/5 21171</td>\n",
       "      <td>7.2500</td>\n",
       "      <td>NaN</td>\n",
       "      <td>S</td>\n",
       "    </tr>\n",
       "    <tr>\n",
       "      <th>1</th>\n",
       "      <td>2</td>\n",
       "      <td>1</td>\n",
       "      <td>Cumings, Mrs. John Bradley (Florence Briggs Th...</td>\n",
       "      <td>female</td>\n",
       "      <td>38.0</td>\n",
       "      <td>1</td>\n",
       "      <td>0</td>\n",
       "      <td>PC 17599</td>\n",
       "      <td>71.2833</td>\n",
       "      <td>C85</td>\n",
       "      <td>C</td>\n",
       "    </tr>\n",
       "  </tbody>\n",
       "</table>\n",
       "</div>"
      ],
      "text/plain": [
       "   PassengerId  Pclass                                               Name  \\\n",
       "0            1       3                            Braund, Mr. Owen Harris   \n",
       "1            2       1  Cumings, Mrs. John Bradley (Florence Briggs Th...   \n",
       "\n",
       "      Sex   Age  SibSp  Parch     Ticket     Fare Cabin Embarked  \n",
       "0    male  22.0      1      0  A/5 21171   7.2500   NaN        S  \n",
       "1  female  38.0      1      0   PC 17599  71.2833   C85        C  "
      ]
     },
     "execution_count": 30,
     "metadata": {},
     "output_type": "execute_result"
    }
   ],
   "source": [
    "train_data.head(2)"
   ]
  },
  {
   "cell_type": "code",
   "execution_count": 31,
   "metadata": {},
   "outputs": [],
   "source": [
    "# library to create the pipeline\n",
    "from sklearn.pipeline import Pipeline\n",
    "from sklearn.preprocessing import StandardScaler\n",
    "from sklearn.preprocessing import MinMaxScaler\n",
    "from sklearn.compose import ColumnTransformer\n",
    "from sklearn.impute import SimpleImputer\n",
    "from sklearn.preprocessing import OneHotEncoder"
   ]
  },
  {
   "cell_type": "code",
   "execution_count": 32,
   "metadata": {},
   "outputs": [],
   "source": [
    "pipeline_data_cat = Pipeline([\n",
    "    (\"imputer\", SimpleImputer(strategy=\"constant\", fill_value='U')),\n",
    "    (\"cat\", OneHotEncoder(handle_unknown=\"ignore\", sparse=False)),\n",
    "])"
   ]
  },
  {
   "cell_type": "code",
   "execution_count": 33,
   "metadata": {},
   "outputs": [],
   "source": [
    "pipeline_age_fare = Pipeline([\n",
    "    (\"imputer\", SimpleImputer(strategy=\"median\")),\n",
    "    (\"std_scalar\", StandardScaler()),\n",
    "])"
   ]
  },
  {
   "cell_type": "code",
   "execution_count": 34,
   "metadata": {},
   "outputs": [],
   "source": [
    "num_attribs = [\"Age\", \"Fare\"]\n",
    "cat_atribs = [\"Pclass\", \"Sex\", \"SibSp\", \"Parch\", \"Embarked\"]\n",
    "\n",
    "pipeline_full_data = ColumnTransformer([\n",
    "    (\"pipeline_age_fare\", pipeline_age_fare, num_attribs),\n",
    "    (\"pipeline_data_cat\", pipeline_data_cat, cat_atribs)\n",
    "],remainder=\"drop\")\n"
   ]
  },
  {
   "cell_type": "code",
   "execution_count": 35,
   "metadata": {},
   "outputs": [
    {
     "name": "stdout",
     "output_type": "stream",
     "text": [
      "(891, 11)\n",
      "(891, 25)\n"
     ]
    }
   ],
   "source": [
    "print(train_data.shape)\n",
    "train_data_tranformed = pipeline_full_data.fit_transform(train_data)\n",
    "print(train_data_tranformed.shape)"
   ]
  },
  {
   "cell_type": "code",
   "execution_count": 36,
   "metadata": {},
   "outputs": [],
   "source": [
    "X = train_data_tranformed # training features after transformation\n",
    "y = train_labels  # training labels "
   ]
  },
  {
   "cell_type": "code",
   "execution_count": 37,
   "metadata": {},
   "outputs": [
    {
     "data": {
      "image/png": "[encoded data removed]",
      "text/plain": [
       "<Figure size 648x216 with 1 Axes>"
      ]
     },
     "metadata": {
      "needs_background": "light"
     },
     "output_type": "display_data"
    }
   ],
   "source": [
    "t = np.linspace(-10, 10, 100)\n",
    "sig = 1 / (1 + np.exp(-t))\n",
    "plt.figure(figsize=(9, 3))\n",
    "plt.plot([-10, 10], [0, 0], \"k-\")\n",
    "plt.plot([-10, 10], [0.5, 0.5], \"k:\")\n",
    "plt.plot([-10, 10], [1, 1], \"k:\")\n",
    "plt.plot([0, 0], [-1.1, 1.1], \"k-\")\n",
    "plt.plot(t, sig, \"r-\", linewidth=2, label=r\"$\\sigma(t)$\")\n",
    "plt.xlabel(\"t\")\n",
    "plt.legend(loc=\"upper left\", fontsize=20)\n",
    "plt.axis([-10, 10, -0.1, 1.1])\n",
    "plt.show()"
   ]
  },
  {
   "cell_type": "code",
   "execution_count": 38,
   "metadata": {},
   "outputs": [],
   "source": [
    "class LogisticRegression:\n",
    "    def __init__(self, n_iter, lr):\n",
    "        self.n_iter = n_iter  # number of times gradient descent run (hyperparameter)\n",
    "        self.w = []   # parameters which model will try to learn\n",
    "        self.lr = lr  # learning rate (hyperparameter)\n",
    "        \n",
    "    def sigmoid(self, y_vec, N):\n",
    "        p = []\n",
    "        for y in y_vec:\n",
    "            p.append(1/(1 + np.exp(-1*y)))\n",
    "        return p\n",
    "                     \n",
    "    \n",
    "    def fit(self, X, y):\n",
    "        \n",
    "        w_0 = np.ones(len(X)).reshape(len(X), 1) # to add intercept/bias in the equation\n",
    "        X = np.concatenate((w_0, X), axis=1) # concatenate so that X contains a value 1 for bias w_0\n",
    "        \n",
    "        N, D = X.shape # N - number of samples,  D = Dimension of the features\n",
    "        \n",
    "        # initialize w with random values\n",
    "        self.w = [1] * D\n",
    "        self.w = [np.random.random() for i in range(D)]\n",
    "        self.w = np.array(self.w)\n",
    "\n",
    "        # gradient Descent\n",
    "        for j in range(self.n_iter):\n",
    "            y_vec = np.dot(X, self.w.T)\n",
    "            p = self.sigmoid(y_vec, N)\n",
    "            \n",
    "            # calculate error\n",
    "            error = 0\n",
    "            for i in range(len(y)):\n",
    "                error += y[i]*np.log(p[i]) + (i-y[i]) * np.log(1-p[i])\n",
    "            error = 1/N * error\n",
    "            print(\"Error at iteration {} is :- {}\".format(j, error))\n",
    "            \n",
    "            # calculate the gradient\n",
    "            grad = 1/N * np.dot((p - y), X)\n",
    "            \n",
    "            # updating the previous parameter values\n",
    "            w_new = self.w - self.lr * grad\n",
    "            self.w = w_new\n",
    "            \n",
    "    def predict(self, X):\n",
    "        w_0 = np.ones(len(X)).reshape(len(X), 1) # to add intercept/bias in the equation\n",
    "        X = np.concatenate((w_0, X), axis=1)\n",
    "        y_vec = np.dot(X, self.w.T)\n",
    "        N, D = X.shape\n",
    "        p = self.sigmoid(y_vec, N)\n",
    "        prediction = []\n",
    "        \n",
    "        for i in p:\n",
    "            if i < 0.5:\n",
    "                prediction.append(0)\n",
    "            else:\n",
    "                prediction.append(1)\n",
    "        prediction = np.array(prediction)\n",
    "        return prediction\n",
    "            \n",
    "        "
   ]
  },
  {
   "cell_type": "markdown",
   "metadata": {},
   "source": [
    "let's create a object of LogisticRegression() class and call the fit function"
   ]
  },
  {
   "cell_type": "code",
   "execution_count": 40,
   "metadata": {},
   "outputs": [
    {
     "name": "stdout",
     "output_type": "stream",
     "text": [
      "Error at iteration 0 is :- -1236.7047396753908\n",
      "Error at iteration 1 is :- -1228.1267250679596\n",
      "Error at iteration 2 is :- -1219.5863778451321\n",
      "Error at iteration 3 is :- -1211.0842342240844\n",
      "Error at iteration 4 is :- -1202.6208294314063\n",
      "Error at iteration 5 is :- -1194.196697321347\n",
      "Error at iteration 6 is :- -1185.8123699856562\n",
      "Error at iteration 7 is :- -1177.4683773554887\n",
      "Error at iteration 8 is :- -1169.1652467958436\n",
      "Error at iteration 9 is :- -1160.9035026931524\n",
      "Error at iteration 10 is :- -1152.6836660365589\n",
      "Error at iteration 11 is :- -1144.5062539935323\n",
      "Error at iteration 12 is :- -1136.3717794804986\n",
      "Error at iteration 13 is :- -1128.2807507291584\n",
      "Error at iteration 14 is :- -1120.2336708492537\n",
      "Error at iteration 15 is :- -1112.2310373885398\n",
      "Error at iteration 16 is :- -1104.2733418907562\n",
      "Error at iteration 17 is :- -1096.361069452436\n",
      "Error at iteration 18 is :- -1088.4946982794008\n",
      "Error at iteration 19 is :- -1080.6746992438354\n",
      "Error at iteration 20 is :- -1072.9015354427902\n",
      "Error at iteration 21 is :- -1065.1756617591266\n",
      "Error at iteration 22 is :- -1057.4975244257366\n",
      "Error at iteration 23 is :- -1049.8675605940407\n",
      "Error at iteration 24 is :- -1042.2861979077281\n",
      "Error at iteration 25 is :- -1034.7538540826536\n",
      "Error at iteration 26 is :- -1027.2709364939096\n",
      "Error at iteration 27 is :- -1019.837841770978\n",
      "Error at iteration 28 is :- -1012.4549554019712\n",
      "Error at iteration 29 is :- -1005.1226513478586\n",
      "Error at iteration 30 is :- -997.841291667656\n",
      "Error at iteration 31 is :- -990.6112261554454\n",
      "Error at iteration 32 is :- -983.4327919901463\n",
      "Error at iteration 33 is :- -976.3063133989053\n",
      "Error at iteration 34 is :- -969.2321013349091\n",
      "Error at iteration 35 is :- -962.2104531704692\n",
      "Error at iteration 36 is :- -955.2416524060856\n",
      "Error at iteration 37 is :- -948.3259683962823\n",
      "Error at iteration 38 is :- -941.4636560928175\n",
      "Error at iteration 39 is :- -934.6549558059801\n",
      "Error at iteration 40 is :- -927.9000929844789\n",
      "Error at iteration 41 is :- -921.1992780145183\n",
      "Error at iteration 42 is :- -914.5527060384879\n",
      "Error at iteration 43 is :- -907.9605567937066\n",
      "Error at iteration 44 is :- -901.4229944715788\n",
      "Error at iteration 45 is :- -894.9401675974403\n",
      "Error at iteration 46 is :- -888.5122089313494\n",
      "Error at iteration 47 is :- -882.1392353899721\n",
      "Error at iteration 48 is :- -875.821347989696\n",
      "Error at iteration 49 is :- -869.5586318109957\n",
      "Error at iteration 50 is :- -863.3511559840157\n",
      "Error at iteration 51 is :- -857.1989736953379\n",
      "Error at iteration 52 is :- -851.1021222157325\n",
      "Error at iteration 53 is :- -845.0606229487083\n",
      "Error at iteration 54 is :- -839.0744814996037\n",
      "Error at iteration 55 is :- -833.1436877648775\n",
      "Error at iteration 56 is :- -827.2682160412206\n",
      "Error at iteration 57 is :- -821.4480251540474\n",
      "Error at iteration 58 is :- -815.6830586049075\n",
      "Error at iteration 59 is :- -809.9732447372339\n",
      "Error at iteration 60 is :- -804.3184969198859\n",
      "Error at iteration 61 is :- -798.718713747843\n",
      "Error at iteration 62 is :- -793.1737792593934\n",
      "Error at iteration 63 is :- -787.6835631691055\n",
      "Error at iteration 64 is :- -782.2479211158585\n",
      "Error at iteration 65 is :- -776.8666949251835\n",
      "Error at iteration 66 is :- -771.5397128850907\n",
      "Error at iteration 67 is :- -766.2667900346122\n",
      "Error at iteration 68 is :- -761.0477284642292\n",
      "Error at iteration 69 is :- -755.88231762731\n",
      "Error at iteration 70 is :- -750.7703346617532\n",
      "Error at iteration 71 is :- -745.7115447209582\n",
      "Error at iteration 72 is :- -740.7057013132448\n",
      "Error at iteration 73 is :- -735.752546648897\n",
      "Error at iteration 74 is :- -730.8518119939487\n",
      "Error at iteration 75 is :- -726.0032180298629\n",
      "Error at iteration 76 is :- -721.2064752182658\n",
      "Error at iteration 77 is :- -716.4612841699147\n",
      "Error at iteration 78 is :- -711.767336017066\n",
      "Error at iteration 79 is :- -707.124312788456\n",
      "Error at iteration 80 is :- -702.5318877861203\n",
      "Error at iteration 81 is :- -697.9897259632938\n",
      "Error at iteration 82 is :- -693.4974843026389\n",
      "Error at iteration 83 is :- -689.0548121941337\n",
      "Error at iteration 84 is :- -684.6613518118951\n",
      "Error at iteration 85 is :- -680.3167384893263\n",
      "Error at iteration 86 is :- -676.0206010919171\n",
      "Error at iteration 87 is :- -671.7725623871603\n",
      "Error at iteration 88 is :- -667.5722394109625\n",
      "Error at iteration 89 is :- -663.4192438300764\n",
      "Error at iteration 90 is :- -659.3131822999981\n",
      "Error at iteration 91 is :- -655.2536568179129\n",
      "Error at iteration 92 is :- -651.2402650702135\n",
      "Error at iteration 93 is :- -647.2726007742203\n",
      "Error at iteration 94 is :- -643.350254013706\n",
      "Error at iteration 95 is :- -639.4728115679045\n",
      "Error at iteration 96 is :- -635.6398572336811\n",
      "Error at iteration 97 is :- -631.8509721405961\n",
      "Error at iteration 98 is :- -628.1057350586083\n",
      "Error at iteration 99 is :- -624.4037226981962\n"
     ]
    }
   ],
   "source": [
    "log_reg = LogisticRegression(100, 0.01)\n",
    "log_reg.fit(X, y)"
   ]
  },
  {
   "cell_type": "markdown",
   "metadata": {},
   "source": [
    "Now, we can call predict function to get predictions."
   ]
  },
  {
   "cell_type": "code",
   "execution_count": 41,
   "metadata": {},
   "outputs": [
    {
     "data": {
      "text/plain": [
       "(891,)"
      ]
     },
     "execution_count": 41,
     "metadata": {},
     "output_type": "execute_result"
    }
   ],
   "source": [
    "predict = log_reg.predict(X)\n",
    "predict.shape"
   ]
  },
  {
   "cell_type": "code",
   "execution_count": 42,
   "metadata": {},
   "outputs": [],
   "source": [
    "# logistic Regression using sklearn library\n",
    "\n",
    "from sklearn.linear_model import LogisticRegression\n",
    "\n",
    "log_reg = LogisticRegression()\n",
    "log_reg.fit(X,y)\n",
    "predict = log_reg.predict(X)"
   ]
  },
  {
   "cell_type": "code",
   "execution_count": null,
   "metadata": {},
   "outputs": [],
   "source": []
  }
 ],
 "metadata": {
  "kernelspec": {
   "display_name": "Python 3",
   "language": "python",
   "name": "python3"
  },
  "language_info": {
   "codemirror_mode": {
    "name": "ipython",
    "version": 3
   },
   "file_extension": ".py",
   "mimetype": "text/x-python",
   "name": "python",
   "nbconvert_exporter": "python",
   "pygments_lexer": "ipython3",
   "version": "3.8.5"
  }
 },
 "nbformat": 4,
 "nbformat_minor": 4
}
